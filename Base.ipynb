{
  "nbformat": 4,
  "nbformat_minor": 0,
  "metadata": {
    "colab": {
      "provenance": []
    },
    "kernelspec": {
      "name": "python3",
      "display_name": "Python 3"
    },
    "language_info": {
      "name": "python"
    }
  },
  "cells": [
    {
      "cell_type": "markdown",
      "source": [
        "Steps needed to correctly classify data:\n",
        "\n",
        "1.   Obtain data -> start with one voice and two commands\n",
        "2.   Convert sound into workable data\n",
        "3.   Split data into test and train sets\n",
        "4.   Fit train data and make prediction variable\n",
        "5.   Find accuracy for test set\n",
        "6. Plot out results\n",
        "\n"
      ],
      "metadata": {
        "id": "UMq86omt7ZqR"
      }
    }
  ]
}